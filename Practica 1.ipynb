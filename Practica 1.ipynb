{
 "cells": [
  {
   "cell_type": "markdown",
   "metadata": {
    "collapsed": true,
    "pycharm": {
     "name": "#%% md\n"
    }
   },
   "source": [
    "# Carga de Datos"
   ]
  },
  {
   "cell_type": "markdown",
   "source": [
    "## Librerías que se utilizarán"
   ],
   "metadata": {
    "collapsed": false,
    "pycharm": {
     "name": "#%% md\n"
    }
   }
  },
  {
   "cell_type": "code",
   "execution_count": 6,
   "outputs": [],
   "source": [
    "import os\n",
    "import pandas as pd\n",
    "import re"
   ],
   "metadata": {
    "collapsed": false,
    "pycharm": {
     "name": "#%%\n"
    }
   }
  },
  {
   "cell_type": "markdown",
   "source": [
    "### Con el siguiente bloque de código concatemos los path de los archivos csv para después crear un dataframe"
   ],
   "metadata": {
    "collapsed": false,
    "pycharm": {
     "name": "#%% md\n"
    }
   }
  },
  {
   "cell_type": "code",
   "source": [
    "#contaminantes_catalogos\n",
    "path_catalogos = r'/Users/sebastian/PycharmProjects/RegresionLinealSimple/data/contaminantes_catalogos/'\n",
    "files_catalogos = os.listdir(path_catalogos)\n",
    "file_list_catalogos = [files_catalogos for files_catalogos in files_catalogos if files_catalogos[:3] == 'cat']\n",
    "file_list_catalogos"
   ],
   "metadata": {
    "collapsed": false,
    "pycharm": {
     "name": "#%%\n"
    }
   },
   "execution_count": 42,
   "outputs": [
    {
     "data": {
      "text/plain": "['cat_unidades.csv', 'cat_estacion.csv', 'cat_parametros.csv']"
     },
     "execution_count": 42,
     "metadata": {},
     "output_type": "execute_result"
    }
   ]
  },
  {
   "cell_type": "code",
   "execution_count": 60,
   "outputs": [
    {
     "name": "stdout",
     "output_type": "stream",
     "text": [
      "cat_unidades.csv\n",
      "cat_estacion.csv\n",
      "cat_parametros.csv\n"
     ]
    },
    {
     "data": {
      "text/plain": "  Catalogo de estaciones    Unnamed: 1  Unnamed: 2 Unnamed: 3 Unnamed: 4  \\\n0              cve_estac     nom_estac    longitud    latitud        alt   \n1                    ACO       Acolman  -98.912003  19.635501       2198   \n2                    AJU        Ajusco  -99.162611  19.154286       2942   \n3                    AJM  Ajusco Medio  -99.207744  19.272161       2548   \n4                    ARA        Aragón  -99.074549  19.470218       2200   \n\n                   Unnamed: 5    Unnamed: 6  \n0                   obs_estac    id_station  \n1                         NaN  484150020109  \n2                         NaN  484090120400  \n3                         NaN  484090120609  \n4  Finalizó operación en 2010  484090050301  ",
      "text/html": "<div>\n<style scoped>\n    .dataframe tbody tr th:only-of-type {\n        vertical-align: middle;\n    }\n\n    .dataframe tbody tr th {\n        vertical-align: top;\n    }\n\n    .dataframe thead th {\n        text-align: right;\n    }\n</style>\n<table border=\"1\" class=\"dataframe\">\n  <thead>\n    <tr style=\"text-align: right;\">\n      <th></th>\n      <th>Catalogo de estaciones</th>\n      <th>Unnamed: 1</th>\n      <th>Unnamed: 2</th>\n      <th>Unnamed: 3</th>\n      <th>Unnamed: 4</th>\n      <th>Unnamed: 5</th>\n      <th>Unnamed: 6</th>\n    </tr>\n  </thead>\n  <tbody>\n    <tr>\n      <th>0</th>\n      <td>cve_estac</td>\n      <td>nom_estac</td>\n      <td>longitud</td>\n      <td>latitud</td>\n      <td>alt</td>\n      <td>obs_estac</td>\n      <td>id_station</td>\n    </tr>\n    <tr>\n      <th>1</th>\n      <td>ACO</td>\n      <td>Acolman</td>\n      <td>-98.912003</td>\n      <td>19.635501</td>\n      <td>2198</td>\n      <td>NaN</td>\n      <td>484150020109</td>\n    </tr>\n    <tr>\n      <th>2</th>\n      <td>AJU</td>\n      <td>Ajusco</td>\n      <td>-99.162611</td>\n      <td>19.154286</td>\n      <td>2942</td>\n      <td>NaN</td>\n      <td>484090120400</td>\n    </tr>\n    <tr>\n      <th>3</th>\n      <td>AJM</td>\n      <td>Ajusco Medio</td>\n      <td>-99.207744</td>\n      <td>19.272161</td>\n      <td>2548</td>\n      <td>NaN</td>\n      <td>484090120609</td>\n    </tr>\n    <tr>\n      <th>4</th>\n      <td>ARA</td>\n      <td>Aragón</td>\n      <td>-99.074549</td>\n      <td>19.470218</td>\n      <td>2200</td>\n      <td>Finalizó operación en 2010</td>\n      <td>484090050301</td>\n    </tr>\n  </tbody>\n</table>\n</div>"
     },
     "execution_count": 60,
     "metadata": {},
     "output_type": "execute_result"
    }
   ],
   "source": [
    "path_csv_cat = []\n",
    "#path_csv_cat = [os.path.join(path_catalogos, n) for n in file_list_catalogos]\n",
    "i =0\n",
    "for file in file_list_catalogos:\n",
    "    print(file)\n",
    "    path_csv_cat.append(path_catalogos+file)\n",
    "    i+=1\n",
    "\n",
    "path_csv_cat\n",
    "path_csv_cat\n",
    "df = pd.read_csv(path_csv_cat[1], sep=',',  encoding='latin-1')\n",
    "df.head()\n",
    "#df.info"
   ],
   "metadata": {
    "collapsed": false,
    "pycharm": {
     "name": "#%%\n"
    }
   }
  },
  {
   "cell_type": "code",
   "execution_count": null,
   "outputs": [],
   "source": [],
   "metadata": {
    "collapsed": false,
    "pycharm": {
     "name": "#%%\n"
    }
   }
  },
  {
   "cell_type": "code",
   "execution_count": 11,
   "outputs": [
    {
     "data": {
      "text/plain": "['contaminantes_2022.csv',\n 'contaminantes_2021.CSV',\n 'contaminantes_2020.CSV',\n 'contaminantes_2018.CSV',\n 'contaminantes_2019.CSV']"
     },
     "execution_count": 11,
     "metadata": {},
     "output_type": "execute_result"
    }
   ],
   "source": [
    "#Contaminantes_CDMX\n",
    "path_cdmx = '/Users/sebastian/PycharmProjects/RegresionLinealSimple/data/contaminantes_CDMX'\n",
    "files_cdmx = os.listdir(path_cdmx)\n",
    "file_list_cdmx = [files_cdmx for files_cdmx in files_cdmx if files_cdmx[:3] == 'con']\n",
    "file_list_cdmx"
   ],
   "metadata": {
    "collapsed": false,
    "pycharm": {
     "name": "#%%\n"
    }
   }
  },
  {
   "cell_type": "code",
   "execution_count": null,
   "outputs": [],
   "source": [],
   "metadata": {
    "collapsed": false,
    "pycharm": {
     "name": "#%%\n"
    }
   }
  }
 ],
 "metadata": {
  "kernelspec": {
   "display_name": "Python 3",
   "language": "python",
   "name": "python3"
  },
  "language_info": {
   "codemirror_mode": {
    "name": "ipython",
    "version": 2
   },
   "file_extension": ".py",
   "mimetype": "text/x-python",
   "name": "python",
   "nbconvert_exporter": "python",
   "pygments_lexer": "ipython2",
   "version": "2.7.6"
  }
 },
 "nbformat": 4,
 "nbformat_minor": 0
}