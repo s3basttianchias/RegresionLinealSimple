{
 "cells": [
  {
   "cell_type": "markdown",
   "metadata": {
    "collapsed": true,
    "pycharm": {
     "name": "#%% md\n"
    }
   },
   "source": [
    "# Carga de Datos"
   ]
  },
  {
   "cell_type": "markdown",
   "source": [],
   "metadata": {
    "collapsed": false
   }
  },
  {
   "cell_type": "markdown",
   "source": [
    "## Librerías que se utilizarán"
   ],
   "metadata": {
    "collapsed": false,
    "pycharm": {
     "name": "#%% md\n"
    }
   }
  },
  {
   "cell_type": "code",
   "execution_count": 1,
   "outputs": [],
   "source": [
    "import os\n",
    "import pandas as pd\n",
    "import re"
   ],
   "metadata": {
    "collapsed": false,
    "pycharm": {
     "name": "#%%\n"
    }
   }
  },
  {
   "cell_type": "markdown",
   "source": [
    "### Con el siguiente bloque de código concatemos los path de los archivos csv para después crear un dataframe"
   ],
   "metadata": {
    "collapsed": false,
    "pycharm": {
     "name": "#%% md\n"
    }
   }
  },
  {
   "cell_type": "code",
   "source": [
    "#contaminantes_catalogos\n",
    "path_catalogos = r'/Users/sebastian/PycharmProjects/RegresionLinealSimple/data/contaminantes_catalogos/'\n",
    "files_catalogos = os.listdir(path_catalogos)\n",
    "file_list_catalogos = [files_catalogos for files_catalogos in files_catalogos if files_catalogos[:3] == 'cat']\n",
    "file_list_catalogos"
   ],
   "metadata": {
    "collapsed": false,
    "pycharm": {
     "name": "#%%\n"
    }
   },
   "execution_count": 2,
   "outputs": [
    {
     "data": {
      "text/plain": "['cat_unidades.csv', 'cat_estacion.csv', 'cat_parametros.csv']"
     },
     "execution_count": 2,
     "metadata": {},
     "output_type": "execute_result"
    }
   ]
  },
  {
   "cell_type": "code",
   "execution_count": 3,
   "outputs": [
    {
     "name": "stdout",
     "output_type": "stream",
     "text": [
      "cat_unidades.csv\n",
      "cat_estacion.csv\n",
      "cat_parametros.csv\n"
     ]
    },
    {
     "data": {
      "text/plain": "   id_unidad clave_unidad                 nombre_unidad\n0          1          ppb             partes por billón\n1          2        µg/m³  microgramos por metro cúbico\n2          3          m/s            metros por segundo\n3          4            °                        grados\n4          5           °C                grados Celsius",
      "text/html": "<div>\n<style scoped>\n    .dataframe tbody tr th:only-of-type {\n        vertical-align: middle;\n    }\n\n    .dataframe tbody tr th {\n        vertical-align: top;\n    }\n\n    .dataframe thead th {\n        text-align: right;\n    }\n</style>\n<table border=\"1\" class=\"dataframe\">\n  <thead>\n    <tr style=\"text-align: right;\">\n      <th></th>\n      <th>id_unidad</th>\n      <th>clave_unidad</th>\n      <th>nombre_unidad</th>\n    </tr>\n  </thead>\n  <tbody>\n    <tr>\n      <th>0</th>\n      <td>1</td>\n      <td>ppb</td>\n      <td>partes por billón</td>\n    </tr>\n    <tr>\n      <th>1</th>\n      <td>2</td>\n      <td>µg/m³</td>\n      <td>microgramos por metro cúbico</td>\n    </tr>\n    <tr>\n      <th>2</th>\n      <td>3</td>\n      <td>m/s</td>\n      <td>metros por segundo</td>\n    </tr>\n    <tr>\n      <th>3</th>\n      <td>4</td>\n      <td>°</td>\n      <td>grados</td>\n    </tr>\n    <tr>\n      <th>4</th>\n      <td>5</td>\n      <td>°C</td>\n      <td>grados Celsius</td>\n    </tr>\n  </tbody>\n</table>\n</div>"
     },
     "execution_count": 3,
     "metadata": {},
     "output_type": "execute_result"
    }
   ],
   "source": [
    "path_csv_cat = []\n",
    "#path_csv_cat = [os.path.join(path_catalogos, n) for n in file_list_catalogos]\n",
    "i =0\n",
    "for file in file_list_catalogos:\n",
    "    print(file)\n",
    "    path_csv_cat.append(path_catalogos+file)\n",
    "    i+=1\n",
    "df = pd.read_csv(path_csv_cat[0], sep=',',  encoding='latin-1', header=0)\n",
    "df.head()\n"
   ],
   "metadata": {
    "collapsed": false,
    "pycharm": {
     "name": "#%%\n"
    }
   }
  },
  {
   "cell_type": "code",
   "execution_count": 4,
   "outputs": [
    {
     "data": {
      "text/plain": "  cve_estac     nom_estac   longitud    latitud     alt  \\\n0       ACO       Acolman -98.912003  19.635501  2198.0   \n1       AJU        Ajusco -99.162611  19.154286  2942.0   \n2       AJM  Ajusco Medio -99.207744  19.272161  2548.0   \n3       ARA        Aragón -99.074549  19.470218  2200.0   \n4       ATI      Atizapan -99.254133  19.576963  2341.0   \n\n                    obs_estac    id_station  \n0                         NaN  484150020109  \n1                         NaN  484090120400  \n2                         NaN  484090120609  \n3  Finalizó operación en 2010  484090050301  \n4                         NaN  484150130101  ",
      "text/html": "<div>\n<style scoped>\n    .dataframe tbody tr th:only-of-type {\n        vertical-align: middle;\n    }\n\n    .dataframe tbody tr th {\n        vertical-align: top;\n    }\n\n    .dataframe thead th {\n        text-align: right;\n    }\n</style>\n<table border=\"1\" class=\"dataframe\">\n  <thead>\n    <tr style=\"text-align: right;\">\n      <th></th>\n      <th>cve_estac</th>\n      <th>nom_estac</th>\n      <th>longitud</th>\n      <th>latitud</th>\n      <th>alt</th>\n      <th>obs_estac</th>\n      <th>id_station</th>\n    </tr>\n  </thead>\n  <tbody>\n    <tr>\n      <th>0</th>\n      <td>ACO</td>\n      <td>Acolman</td>\n      <td>-98.912003</td>\n      <td>19.635501</td>\n      <td>2198.0</td>\n      <td>NaN</td>\n      <td>484150020109</td>\n    </tr>\n    <tr>\n      <th>1</th>\n      <td>AJU</td>\n      <td>Ajusco</td>\n      <td>-99.162611</td>\n      <td>19.154286</td>\n      <td>2942.0</td>\n      <td>NaN</td>\n      <td>484090120400</td>\n    </tr>\n    <tr>\n      <th>2</th>\n      <td>AJM</td>\n      <td>Ajusco Medio</td>\n      <td>-99.207744</td>\n      <td>19.272161</td>\n      <td>2548.0</td>\n      <td>NaN</td>\n      <td>484090120609</td>\n    </tr>\n    <tr>\n      <th>3</th>\n      <td>ARA</td>\n      <td>Aragón</td>\n      <td>-99.074549</td>\n      <td>19.470218</td>\n      <td>2200.0</td>\n      <td>Finalizó operación en 2010</td>\n      <td>484090050301</td>\n    </tr>\n    <tr>\n      <th>4</th>\n      <td>ATI</td>\n      <td>Atizapan</td>\n      <td>-99.254133</td>\n      <td>19.576963</td>\n      <td>2341.0</td>\n      <td>NaN</td>\n      <td>484150130101</td>\n    </tr>\n  </tbody>\n</table>\n</div>"
     },
     "execution_count": 4,
     "metadata": {},
     "output_type": "execute_result"
    }
   ],
   "source": [
    "df = pd.read_csv(path_csv_cat[1], sep=',',  encoding='latin-1', header=1)\n",
    "df.head()\n"
   ],
   "metadata": {
    "collapsed": false,
    "pycharm": {
     "name": "#%%\n"
    }
   }
  },
  {
   "cell_type": "code",
   "execution_count": 5,
   "outputs": [
    {
     "name": "stdout",
     "output_type": "stream",
     "text": [
      "id_parameter [<class 'int'>] \n",
      "\n",
      "cve_param [<class 'str'>] \n",
      "\n",
      "nom_param [<class 'str'>] \n",
      "\n",
      "unidades_param [<class 'str'>] \n",
      "\n"
     ]
    }
   ],
   "source": [
    "df = pd.read_csv(path_csv_cat[2], sep=',',  encoding='latin-1', header=1)\n",
    "for c in df.columns:\n",
    "    print( c , df[c].map(type).unique().tolist()  , \"\\n\"*1 )"
   ],
   "metadata": {
    "collapsed": false,
    "pycharm": {
     "name": "#%%\n"
    }
   }
  },
  {
   "cell_type": "markdown",
   "source": [
    "### Limpieza de csvs de carpeta contaminantes_cdmx"
   ],
   "metadata": {
    "collapsed": false,
    "pycharm": {
     "name": "#%% md\n"
    }
   }
  },
  {
   "cell_type": "code",
   "execution_count": 6,
   "outputs": [
    {
     "data": {
      "text/plain": "['contaminantes_2022.csv',\n 'contaminantes_2021.CSV',\n 'contaminantes_2020.CSV',\n 'contaminantes_2018.CSV',\n 'contaminantes_2019.CSV']"
     },
     "execution_count": 6,
     "metadata": {},
     "output_type": "execute_result"
    }
   ],
   "source": [
    "#Contaminantes_CDMX\n",
    "path_cdmx = '/Users/sebastian/PycharmProjects/RegresionLinealSimple/data/contaminantes_CDMX/'\n",
    "files_cdmx = os.listdir(path_cdmx)\n",
    "file_list_cdmx = [files_cdmx for files_cdmx in files_cdmx if files_cdmx[:3] == 'con']\n",
    "file_list_cdmx\n"
   ],
   "metadata": {
    "collapsed": false,
    "pycharm": {
     "name": "#%%\n"
    }
   }
  },
  {
   "cell_type": "code",
   "execution_count": 7,
   "outputs": [
    {
     "name": "stdout",
     "output_type": "stream",
     "text": [
      "contaminantes_2022.csv\n",
      "contaminantes_2021.CSV\n",
      "contaminantes_2020.CSV\n",
      "contaminantes_2018.CSV\n",
      "contaminantes_2019.CSV\n"
     ]
    },
    {
     "data": {
      "text/plain": "                                     0\n0                           Pollutants\n1        city: Ciudad de M&eacute;xico\n2                        cityCode: MEX\n3               country: M&eacute;xico\n4              mesurementAgency: SIMAT\n5     URL: http://www.aire.cdmx.gob.mx\n6  timeStamp: 2020/01/01 al 2020/12/31\n7               average_interval: 001h\n8    version:DT023-IAD-20210803-145717\n9     key: M-6L5KR-KG0OT-MBWXE-UXY0F\\t",
      "text/html": "<div>\n<style scoped>\n    .dataframe tbody tr th:only-of-type {\n        vertical-align: middle;\n    }\n\n    .dataframe tbody tr th {\n        vertical-align: top;\n    }\n\n    .dataframe thead th {\n        text-align: right;\n    }\n</style>\n<table border=\"1\" class=\"dataframe\">\n  <thead>\n    <tr style=\"text-align: right;\">\n      <th></th>\n      <th>0</th>\n    </tr>\n  </thead>\n  <tbody>\n    <tr>\n      <th>0</th>\n      <td>Pollutants</td>\n    </tr>\n    <tr>\n      <th>1</th>\n      <td>city: Ciudad de M&amp;eacute;xico</td>\n    </tr>\n    <tr>\n      <th>2</th>\n      <td>cityCode: MEX</td>\n    </tr>\n    <tr>\n      <th>3</th>\n      <td>country: M&amp;eacute;xico</td>\n    </tr>\n    <tr>\n      <th>4</th>\n      <td>mesurementAgency: SIMAT</td>\n    </tr>\n    <tr>\n      <th>5</th>\n      <td>URL: http://www.aire.cdmx.gob.mx</td>\n    </tr>\n    <tr>\n      <th>6</th>\n      <td>timeStamp: 2020/01/01 al 2020/12/31</td>\n    </tr>\n    <tr>\n      <th>7</th>\n      <td>average_interval: 001h</td>\n    </tr>\n    <tr>\n      <th>8</th>\n      <td>version:DT023-IAD-20210803-145717</td>\n    </tr>\n    <tr>\n      <th>9</th>\n      <td>key: M-6L5KR-KG0OT-MBWXE-UXY0F\\t</td>\n    </tr>\n  </tbody>\n</table>\n</div>"
     },
     "execution_count": 7,
     "metadata": {},
     "output_type": "execute_result"
    }
   ],
   "source": [
    "path_csv_cdmx = []\n",
    "i =0\n",
    "for file in file_list_cdmx:\n",
    "    print(file)\n",
    "    path_csv_cdmx.append(path_cdmx+file)\n",
    "    i+=1\n",
    "\n",
    "path_csv_cdmx\n",
    "df = pd.read_csv(path_csv_cdmx[2], sep = ',', encoding='latin-1',  on_bad_lines='skip', header= None)\n",
    "df.head(15)"
   ],
   "metadata": {
    "collapsed": false,
    "pycharm": {
     "name": "#%%\n"
    }
   }
  },
  {
   "cell_type": "markdown",
   "source": [
    "#### Podemos notar que este conjunto de csvs tienen los primeros 10 renglones con información que no sirve, por lo que tenmos que crear nuestro dataframe a partir del renglón 11"
   ],
   "metadata": {
    "collapsed": false,
    "pycharm": {
     "name": "#%% md\n"
    }
   }
  },
  {
   "cell_type": "code",
   "execution_count": 8,
   "outputs": [
    {
     "name": "stdout",
     "output_type": "stream",
     "text": [
      "0\n",
      "1\n",
      "2\n",
      "3\n",
      "4\n"
     ]
    }
   ],
   "source": [
    "\n",
    "#con este for unimos los csv de la carpeta contaminantes_cdmx y se crea el data frame\n",
    "for i, archivo in enumerate(path_csv_cdmx):\n",
    "    print(i)\n",
    "    if i == 0:\n",
    "        df = pd.read_csv(archivo, sep = ',', encoding='latin-1',  on_bad_lines='skip',skiprows=10,header=0)\n",
    "    else:\n",
    "        df = pd.concat([df , pd.read_csv(archivo, sep = ',', encoding='latin-1',  on_bad_lines='skip',skiprows=10,header=0)])\n",
    "\n",
    "\n",
    "df.info()"
   ],
   "metadata": {
    "collapsed": false,
    "pycharm": {
     "name": "#%%\n"
    }
   }
  },
  {
   "cell_type": "markdown",
   "source": [
    "### Para transformar los tipos de datos de  la columna de date, la separamos en dos, fecha y hora"
   ],
   "metadata": {
    "collapsed": false,
    "pycharm": {
     "name": "#%% md\n"
    }
   }
  },
  {
   "cell_type": "code",
   "execution_count": 74,
   "outputs": [],
   "source": [
    "from datetime import datetime\n",
    "df[['dat_e','time_r']] = df['date'].str.split(' ', n=1,expand=True) #split() separa a partir del caracter que le indiques\n"
   ],
   "metadata": {
    "collapsed": false,
    "pycharm": {
     "name": "#%%\n"
    }
   }
  },
  {
   "cell_type": "code",
   "execution_count": 93,
   "outputs": [
    {
     "name": "stdout",
     "output_type": "stream",
     "text": [
      "<class 'pandas.core.series.Series'>\n",
      "Int64Index: 9931032 entries, 0 to 2266535\n",
      "Series name: time_r\n",
      "Non-Null Count    Dtype         \n",
      "--------------    -----         \n",
      "9931032 non-null  datetime64[ns]\n",
      "dtypes: datetime64[ns](1)\n",
      "memory usage: 216.0 MB\n"
     ]
    }
   ],
   "source": [
    "\n",
    "#cambio de fehca str a datetime\n",
    "df.dat_e=pd.to_datetime(df['dat_e'],format=\"%d/%m/%Y\")\n",
    "\n",
    "'''Para poder convertir las horas a formato datetime tenemos que hacer que los datos que son 24:00 se pasen a 00:00 ya que to_datetime() necesita ese formato'''\n",
    "for row in df.time_r:\n",
    "    if row == '24:00':\n",
    "        df.time_r ='00:00'\n",
    "    else:continue\n",
    "\n",
    "df.time_r=pd.to_datetime((df['time_r']))#tranforma las horas de str a datetime\n",
    "df['time_r'].info()"
   ],
   "metadata": {
    "collapsed": false,
    "pycharm": {
     "name": "#%%\n"
    }
   }
  }
 ],
 "metadata": {
  "kernelspec": {
   "display_name": "Python 3",
   "language": "python",
   "name": "python3"
  },
  "language_info": {
   "codemirror_mode": {
    "name": "ipython",
    "version": 2
   },
   "file_extension": ".py",
   "mimetype": "text/x-python",
   "name": "python",
   "nbconvert_exporter": "python",
   "pygments_lexer": "ipython2",
   "version": "2.7.6"
  }
 },
 "nbformat": 4,
 "nbformat_minor": 0
}