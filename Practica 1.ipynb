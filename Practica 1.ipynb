{
 "cells": [
  {
   "cell_type": "markdown",
   "metadata": {
    "collapsed": true,
    "pycharm": {
     "name": "#%% md\n"
    }
   },
   "source": [
    "# Carga de Datos"
   ]
  },
  {
   "cell_type": "markdown",
   "source": [
    "## Librerías que se utilizarán"
   ],
   "metadata": {
    "collapsed": false,
    "pycharm": {
     "name": "#%% md\n"
    }
   }
  },
  {
   "cell_type": "code",
   "execution_count": 6,
   "outputs": [],
   "source": [
    "import os\n",
    "import pandas as pd\n",
    "import re"
   ],
   "metadata": {
    "collapsed": false,
    "pycharm": {
     "name": "#%%\n"
    }
   }
  },
  {
   "cell_type": "markdown",
   "source": [
    "### Con el siguiente bloque de código concatemos los path de los archivos csv para después crear un dataframe"
   ],
   "metadata": {
    "collapsed": false,
    "pycharm": {
     "name": "#%% md\n"
    }
   }
  },
  {
   "cell_type": "code",
   "source": [
    "#contaminantes_catalogos\n",
    "path_catalogos = r'/Users/sebastian/PycharmProjects/RegresionLinealSimple/data/contaminantes_catalogos/'\n",
    "files_catalogos = os.listdir(path_catalogos)\n",
    "file_list_catalogos = [files_catalogos for files_catalogos in files_catalogos if files_catalogos[:3] == 'cat']\n",
    "file_list_catalogos"
   ],
   "metadata": {
    "collapsed": false,
    "pycharm": {
     "name": "#%%\n"
    }
   },
   "execution_count": 42,
   "outputs": [
    {
     "data": {
      "text/plain": "['cat_unidades.csv', 'cat_estacion.csv', 'cat_parametros.csv']"
     },
     "execution_count": 42,
     "metadata": {},
     "output_type": "execute_result"
    }
   ]
  },
  {
   "cell_type": "code",
   "execution_count": 121,
   "outputs": [
    {
     "name": "stdout",
     "output_type": "stream",
     "text": [
      "cat_unidades.csv\n",
      "cat_estacion.csv\n",
      "cat_parametros.csv\n"
     ]
    },
    {
     "data": {
      "text/plain": "  cve_estac     nom_estac   longitud    latitud     alt  \\\n0       ACO       Acolman -98.912003  19.635501  2198.0   \n1       AJU        Ajusco -99.162611  19.154286  2942.0   \n2       AJM  Ajusco Medio -99.207744  19.272161  2548.0   \n3       ARA        Aragón -99.074549  19.470218  2200.0   \n4       ATI      Atizapan -99.254133  19.576963  2341.0   \n\n                    obs_estac    id_station  \n0                         NaN  484150020109  \n1                         NaN  484090120400  \n2                         NaN  484090120609  \n3  Finalizó operación en 2010  484090050301  \n4                         NaN  484150130101  ",
      "text/html": "<div>\n<style scoped>\n    .dataframe tbody tr th:only-of-type {\n        vertical-align: middle;\n    }\n\n    .dataframe tbody tr th {\n        vertical-align: top;\n    }\n\n    .dataframe thead th {\n        text-align: right;\n    }\n</style>\n<table border=\"1\" class=\"dataframe\">\n  <thead>\n    <tr style=\"text-align: right;\">\n      <th></th>\n      <th>cve_estac</th>\n      <th>nom_estac</th>\n      <th>longitud</th>\n      <th>latitud</th>\n      <th>alt</th>\n      <th>obs_estac</th>\n      <th>id_station</th>\n    </tr>\n  </thead>\n  <tbody>\n    <tr>\n      <th>0</th>\n      <td>ACO</td>\n      <td>Acolman</td>\n      <td>-98.912003</td>\n      <td>19.635501</td>\n      <td>2198.0</td>\n      <td>NaN</td>\n      <td>484150020109</td>\n    </tr>\n    <tr>\n      <th>1</th>\n      <td>AJU</td>\n      <td>Ajusco</td>\n      <td>-99.162611</td>\n      <td>19.154286</td>\n      <td>2942.0</td>\n      <td>NaN</td>\n      <td>484090120400</td>\n    </tr>\n    <tr>\n      <th>2</th>\n      <td>AJM</td>\n      <td>Ajusco Medio</td>\n      <td>-99.207744</td>\n      <td>19.272161</td>\n      <td>2548.0</td>\n      <td>NaN</td>\n      <td>484090120609</td>\n    </tr>\n    <tr>\n      <th>3</th>\n      <td>ARA</td>\n      <td>Aragón</td>\n      <td>-99.074549</td>\n      <td>19.470218</td>\n      <td>2200.0</td>\n      <td>Finalizó operación en 2010</td>\n      <td>484090050301</td>\n    </tr>\n    <tr>\n      <th>4</th>\n      <td>ATI</td>\n      <td>Atizapan</td>\n      <td>-99.254133</td>\n      <td>19.576963</td>\n      <td>2341.0</td>\n      <td>NaN</td>\n      <td>484150130101</td>\n    </tr>\n  </tbody>\n</table>\n</div>"
     },
     "execution_count": 121,
     "metadata": {},
     "output_type": "execute_result"
    }
   ],
   "source": [
    "path_csv_cat = []\n",
    "#path_csv_cat = [os.path.join(path_catalogos, n) for n in file_list_catalogos]\n",
    "i =0\n",
    "for file in file_list_catalogos:\n",
    "    print(file)\n",
    "    path_csv_cat.append(path_catalogos+file)\n",
    "    i+=1\n",
    "path_csv_cat\n",
    "df = pd.read_csv(path_csv_cat[1], sep=',',  encoding='latin-1', header=1)\n",
    "df.head()\n",
    "#df.info"
   ],
   "metadata": {
    "collapsed": false,
    "pycharm": {
     "name": "#%%\n"
    }
   }
  },
  {
   "cell_type": "code",
   "execution_count": 62,
   "outputs": [
    {
     "data": {
      "text/plain": "['contaminantes_2022.csv',\n 'contaminantes_2021.CSV',\n 'contaminantes_2020.CSV',\n 'contaminantes_2018.CSV',\n 'contaminantes_2019.CSV']"
     },
     "execution_count": 62,
     "metadata": {},
     "output_type": "execute_result"
    }
   ],
   "source": [
    "#Contaminantes_CDMX\n",
    "path_cdmx = '/Users/sebastian/PycharmProjects/RegresionLinealSimple/data/contaminantes_CDMX/'\n",
    "files_cdmx = os.listdir(path_cdmx)\n",
    "file_list_cdmx = [files_cdmx for files_cdmx in files_cdmx if files_cdmx[:3] == 'con']\n",
    "file_list_cdmx\n"
   ],
   "metadata": {
    "collapsed": false,
    "pycharm": {
     "name": "#%%\n"
    }
   }
  },
  {
   "cell_type": "code",
   "execution_count": 79,
   "outputs": [
    {
     "name": "stdout",
     "output_type": "stream",
     "text": [
      "contaminantes_2022.csv\n",
      "contaminantes_2021.CSV\n",
      "contaminantes_2020.CSV\n",
      "contaminantes_2018.CSV\n",
      "contaminantes_2019.CSV\n"
     ]
    },
    {
     "data": {
      "text/plain": "                                     0\n0                           Pollutants\n1        city: Ciudad de M&eacute;xico\n2                        cityCode: MEX\n3               country: M&eacute;xico\n4              mesurementAgency: SIMAT\n5     URL: http://www.aire.cdmx.gob.mx\n6  timeStamp: 2020/01/01 al 2020/12/31\n7               average_interval: 001h\n8    version:DT023-IAD-20210803-145717\n9     key: M-6L5KR-KG0OT-MBWXE-UXY0F\\t",
      "text/html": "<div>\n<style scoped>\n    .dataframe tbody tr th:only-of-type {\n        vertical-align: middle;\n    }\n\n    .dataframe tbody tr th {\n        vertical-align: top;\n    }\n\n    .dataframe thead th {\n        text-align: right;\n    }\n</style>\n<table border=\"1\" class=\"dataframe\">\n  <thead>\n    <tr style=\"text-align: right;\">\n      <th></th>\n      <th>0</th>\n    </tr>\n  </thead>\n  <tbody>\n    <tr>\n      <th>0</th>\n      <td>Pollutants</td>\n    </tr>\n    <tr>\n      <th>1</th>\n      <td>city: Ciudad de M&amp;eacute;xico</td>\n    </tr>\n    <tr>\n      <th>2</th>\n      <td>cityCode: MEX</td>\n    </tr>\n    <tr>\n      <th>3</th>\n      <td>country: M&amp;eacute;xico</td>\n    </tr>\n    <tr>\n      <th>4</th>\n      <td>mesurementAgency: SIMAT</td>\n    </tr>\n    <tr>\n      <th>5</th>\n      <td>URL: http://www.aire.cdmx.gob.mx</td>\n    </tr>\n    <tr>\n      <th>6</th>\n      <td>timeStamp: 2020/01/01 al 2020/12/31</td>\n    </tr>\n    <tr>\n      <th>7</th>\n      <td>average_interval: 001h</td>\n    </tr>\n    <tr>\n      <th>8</th>\n      <td>version:DT023-IAD-20210803-145717</td>\n    </tr>\n    <tr>\n      <th>9</th>\n      <td>key: M-6L5KR-KG0OT-MBWXE-UXY0F\\t</td>\n    </tr>\n  </tbody>\n</table>\n</div>"
     },
     "execution_count": 79,
     "metadata": {},
     "output_type": "execute_result"
    }
   ],
   "source": [
    "path_csv_cdmx = []\n",
    "#path_csv_cat = [os.path.join(path_catalogos, n) for n in file_list_catalogos]\n",
    "i =0\n",
    "for file in file_list_cdmx:\n",
    "    print(file)\n",
    "    path_csv_cdmx.append(path_cdmx+file)\n",
    "    i+=1\n",
    "\n",
    "path_csv_cdmx\n",
    "df = pd.read_csv(path_csv_cdmx[2], sep = ',', encoding='latin-1',  on_bad_lines='skip', header= None)\n",
    "df.head(15)"
   ],
   "metadata": {
    "collapsed": false,
    "pycharm": {
     "name": "#%%\n"
    }
   }
  },
  {
   "cell_type": "markdown",
   "source": [
    "#### Podemos notar que este conjunto de csvs tienen los primeros 10 renglones con informacion que no sirve, por lo que tenmos que crear nuestro dataframe a pertir del renglon 11"
   ],
   "metadata": {
    "collapsed": false,
    "pycharm": {
     "name": "#%% md\n"
    }
   }
  },
  {
   "cell_type": "code",
   "execution_count": 117,
   "outputs": [
    {
     "data": {
      "text/plain": "               date id_station id_parameter  value  unit\n0  01/01/2021 01:00        ACO           CO    NaN    15\n1  01/01/2021 01:00        ACO           NO    NaN     1\n2  01/01/2021 01:00        ACO          NO2    NaN     1\n3  01/01/2021 01:00        ACO          NOX    NaN     1\n4  01/01/2021 01:00        ACO           O3    NaN     1",
      "text/html": "<div>\n<style scoped>\n    .dataframe tbody tr th:only-of-type {\n        vertical-align: middle;\n    }\n\n    .dataframe tbody tr th {\n        vertical-align: top;\n    }\n\n    .dataframe thead th {\n        text-align: right;\n    }\n</style>\n<table border=\"1\" class=\"dataframe\">\n  <thead>\n    <tr style=\"text-align: right;\">\n      <th></th>\n      <th>date</th>\n      <th>id_station</th>\n      <th>id_parameter</th>\n      <th>value</th>\n      <th>unit</th>\n    </tr>\n  </thead>\n  <tbody>\n    <tr>\n      <th>0</th>\n      <td>01/01/2021 01:00</td>\n      <td>ACO</td>\n      <td>CO</td>\n      <td>NaN</td>\n      <td>15</td>\n    </tr>\n    <tr>\n      <th>1</th>\n      <td>01/01/2021 01:00</td>\n      <td>ACO</td>\n      <td>NO</td>\n      <td>NaN</td>\n      <td>1</td>\n    </tr>\n    <tr>\n      <th>2</th>\n      <td>01/01/2021 01:00</td>\n      <td>ACO</td>\n      <td>NO2</td>\n      <td>NaN</td>\n      <td>1</td>\n    </tr>\n    <tr>\n      <th>3</th>\n      <td>01/01/2021 01:00</td>\n      <td>ACO</td>\n      <td>NOX</td>\n      <td>NaN</td>\n      <td>1</td>\n    </tr>\n    <tr>\n      <th>4</th>\n      <td>01/01/2021 01:00</td>\n      <td>ACO</td>\n      <td>O3</td>\n      <td>NaN</td>\n      <td>1</td>\n    </tr>\n  </tbody>\n</table>\n</div>"
     },
     "execution_count": 117,
     "metadata": {},
     "output_type": "execute_result"
    }
   ],
   "source": [
    "#aux_file=open(path_csv_cdmx[2],'rb')\n",
    "count=0\n",
    "df = pd.read_csv(path_csv_cdmx[1], sep = ',', encoding='latin-1',  on_bad_lines='skip',skiprows=10,header=0 )\n",
    "df.head()"
   ],
   "metadata": {
    "collapsed": false,
    "pycharm": {
     "name": "#%%\n"
    }
   }
  },
  {
   "cell_type": "code",
   "execution_count": null,
   "outputs": [],
   "source": [],
   "metadata": {
    "collapsed": false,
    "pycharm": {
     "name": "#%%\n"
    }
   }
  }
 ],
 "metadata": {
  "kernelspec": {
   "display_name": "Python 3",
   "language": "python",
   "name": "python3"
  },
  "language_info": {
   "codemirror_mode": {
    "name": "ipython",
    "version": 2
   },
   "file_extension": ".py",
   "mimetype": "text/x-python",
   "name": "python",
   "nbconvert_exporter": "python",
   "pygments_lexer": "ipython2",
   "version": "2.7.6"
  }
 },
 "nbformat": 4,
 "nbformat_minor": 0
}