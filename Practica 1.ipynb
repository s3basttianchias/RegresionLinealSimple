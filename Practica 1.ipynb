{
 "cells": [
  {
   "cell_type": "markdown",
   "metadata": {
    "collapsed": true,
    "pycharm": {
     "name": "#%% md\n"
    }
   },
   "source": [
    "# Carga de Datos"
   ]
  },
  {
   "cell_type": "markdown",
   "source": [],
   "metadata": {
    "collapsed": false
   }
  },
  {
   "cell_type": "markdown",
   "source": [
    "## Librerías que se utilizarán"
   ],
   "metadata": {
    "collapsed": false,
    "pycharm": {
     "name": "#%% md\n"
    }
   }
  },
  {
   "cell_type": "code",
   "execution_count": 62,
   "outputs": [],
   "source": [
    "import os\n",
    "import pandas as pd\n",
    "import re\n",
    "import datetime\n"
   ],
   "metadata": {
    "collapsed": false,
    "pycharm": {
     "name": "#%%\n"
    }
   }
  },
  {
   "cell_type": "markdown",
   "source": [
    "## Carga y Limpieza de Datos\n",
    "### Comenzamos explorando y uniendo los datos relacionados a contaminantes\n",
    "### después se hace lo mismo con la carpeta de catálogos"
   ],
   "metadata": {
    "collapsed": false,
    "pycharm": {
     "name": "#%% md\n"
    }
   }
  },
  {
   "cell_type": "code",
   "source": [
    "#path de las carpetas\n",
    "path_catalogos = r'/Users/sebastian/PycharmProjects/RegresionLinealSimple/data/contaminantes_catalogos/'\n",
    "path_cdmx = '/Users/sebastian/PycharmProjects/RegresionLinealSimple/data/contaminantes_CDMX/'\n",
    "\n",
    "files_catalogos = os.listdir(path_catalogos)\n",
    "#files_cdmx\n",
    "files_cdmx = os.listdir(path_cdmx)\n",
    "\n",
    "files_catalogos\n"
   ],
   "metadata": {
    "collapsed": false,
    "pycharm": {
     "name": "#%%\n"
    }
   },
   "execution_count": 30,
   "outputs": [
    {
     "data": {
      "text/plain": "['cat_unidades.csv', 'cat_estacion.csv', 'cat_parametros.csv']"
     },
     "execution_count": 30,
     "metadata": {},
     "output_type": "execute_result"
    }
   ]
  },
  {
   "cell_type": "markdown",
   "source": [
    "####  contaminantes_cdmx"
   ],
   "metadata": {
    "collapsed": false,
    "pycharm": {
     "name": "#%% md\n"
    }
   }
  },
  {
   "cell_type": "code",
   "execution_count": 90,
   "outputs": [
    {
     "name": "stdout",
     "output_type": "stream",
     "text": [
      "0\n",
      "1\n",
      "2\n",
      "3\n",
      "4\n",
      "<class 'pandas.core.frame.DataFrame'>\n",
      "Int64Index: 9931032 entries, 0 to 2266535\n",
      "Data columns (total 5 columns):\n",
      " #   Column        Dtype  \n",
      "---  ------        -----  \n",
      " 0   date          object \n",
      " 1   id_station    object \n",
      " 2   id_parameter  object \n",
      " 3   value         float64\n",
      " 4   unit          int64  \n",
      "dtypes: float64(1), int64(1), object(3)\n",
      "memory usage: 454.6+ MB\n"
     ]
    },
    {
     "data": {
      "text/plain": "               date id_station id_parameter  value  unit\n0  01/01/2022 01:00        ACO           CO    1.1    15\n1  01/01/2022 01:00        ACO           NO   10.0     1\n2  01/01/2022 01:00        ACO          NO2   39.0     1\n3  01/01/2022 01:00        ACO          NOX   50.0     1\n4  01/01/2022 01:00        ACO           O3    3.0     1",
      "text/html": "<div>\n<style scoped>\n    .dataframe tbody tr th:only-of-type {\n        vertical-align: middle;\n    }\n\n    .dataframe tbody tr th {\n        vertical-align: top;\n    }\n\n    .dataframe thead th {\n        text-align: right;\n    }\n</style>\n<table border=\"1\" class=\"dataframe\">\n  <thead>\n    <tr style=\"text-align: right;\">\n      <th></th>\n      <th>date</th>\n      <th>id_station</th>\n      <th>id_parameter</th>\n      <th>value</th>\n      <th>unit</th>\n    </tr>\n  </thead>\n  <tbody>\n    <tr>\n      <th>0</th>\n      <td>01/01/2022 01:00</td>\n      <td>ACO</td>\n      <td>CO</td>\n      <td>1.1</td>\n      <td>15</td>\n    </tr>\n    <tr>\n      <th>1</th>\n      <td>01/01/2022 01:00</td>\n      <td>ACO</td>\n      <td>NO</td>\n      <td>10.0</td>\n      <td>1</td>\n    </tr>\n    <tr>\n      <th>2</th>\n      <td>01/01/2022 01:00</td>\n      <td>ACO</td>\n      <td>NO2</td>\n      <td>39.0</td>\n      <td>1</td>\n    </tr>\n    <tr>\n      <th>3</th>\n      <td>01/01/2022 01:00</td>\n      <td>ACO</td>\n      <td>NOX</td>\n      <td>50.0</td>\n      <td>1</td>\n    </tr>\n    <tr>\n      <th>4</th>\n      <td>01/01/2022 01:00</td>\n      <td>ACO</td>\n      <td>O3</td>\n      <td>3.0</td>\n      <td>1</td>\n    </tr>\n  </tbody>\n</table>\n</div>"
     },
     "execution_count": 90,
     "metadata": {},
     "output_type": "execute_result"
    }
   ],
   "source": [
    "path_csv_cdmx = []\n",
    "for file in files_cdmx:path_csv_cdmx.append(path_cdmx+file)\n",
    "for i, archivo in enumerate(path_csv_cdmx):\n",
    "    print(i)\n",
    "    if i == 0:\n",
    "        df = pd.read_csv(archivo, sep = ',', encoding='latin-1',  on_bad_lines='skip',skiprows=10,header=0)\n",
    "    else:\n",
    "        df = pd.concat([df , pd.read_csv(archivo, sep = ',', encoding='latin-1',  on_bad_lines='skip',skiprows=10,header=0)])\n",
    "\n",
    "\n",
    "df.info()\n",
    "df.head()"
   ],
   "metadata": {
    "collapsed": false,
    "pycharm": {
     "name": "#%%\n"
    }
   }
  },
  {
   "cell_type": "code",
   "execution_count": 97,
   "outputs": [
    {
     "name": "stdout",
     "output_type": "stream",
     "text": [
      "<class 'pandas.core.frame.DataFrame'>\n",
      "RangeIndex: 9931032 entries, 0 to 9931031\n",
      "Data columns (total 5 columns):\n",
      " #   Column        Dtype         \n",
      "---  ------        -----         \n",
      " 0   date          datetime64[ns]\n",
      " 1   id_station    object        \n",
      " 2   id_parameter  object        \n",
      " 3   value         float64       \n",
      " 4   unit          int64         \n",
      "dtypes: datetime64[ns](1), float64(1), int64(1), object(2)\n",
      "memory usage: 378.8+ MB\n",
      "<class 'pandas.core.frame.DataFrame'>\n",
      "RangeIndex: 9517239 entries, 0 to 9517238\n",
      "Data columns (total 5 columns):\n",
      " #   Column        Dtype         \n",
      "---  ------        -----         \n",
      " 0   date          datetime64[ns]\n",
      " 1   id_station    object        \n",
      " 2   id_parameter  object        \n",
      " 3   value         float64       \n",
      " 4   unit          int64         \n",
      "dtypes: datetime64[ns](1), float64(1), int64(1), object(2)\n",
      "memory usage: 363.1+ MB\n"
     ]
    }
   ],
   "source": [
    "#Nos deshacemos de los valores nulos de la columna datetime\n",
    "df = df.loc[ (~df.date.isnull())].copy().reset_index(drop=True)\n",
    "df['date'] = pd.to_datetime(  df['date'], format=\"%d/%m/%Y %H:%M\", errors='coerce' )\n",
    "\n",
    "#df['date'].map(type).value_counts(True)\n",
    "df.info()"
   ],
   "metadata": {
    "collapsed": false,
    "pycharm": {
     "name": "#%%\n"
    }
   }
  },
  {
   "cell_type": "markdown",
   "source": [
    "#### contaminantes_catalogos"
   ],
   "metadata": {
    "collapsed": false,
    "pycharm": {
     "name": "#%% md\n"
    }
   }
  },
  {
   "cell_type": "code",
   "execution_count": 105,
   "outputs": [
    {
     "data": {
      "text/plain": "    id_parameter cve_param                             nom_param  \\\n0              1        O3                                 Ozono   \n1              2       NO2                  Dióxido de nitrógeno   \n2              3        NO                         Óxido nítrico   \n3              4       NOx                   Óxidos de nitrógeno   \n4              5        CO                   Monóxido de carbono   \n5              6       SO2                     Dióxido de azufre   \n6              7      PM10   Partículas menores a 10 micrómetros   \n7              8     PM2.5  Partículas menores a 2.5 micrómetros   \n8              9      PMco                     Partículas coarse   \n9             10       BEN                               Benceno   \n10            11       TOL                               Tolueno   \n11            14       WSP                  Velocidad del viento   \n12            15       WDR                  Direccion del viento   \n13            16       TMP                  Temperatura ambiente   \n14            17        RH                      Humedad relativa   \n15            18       UVA                        Radiación UV-A   \n16            19       UVB                        Radiación UV-B   \n17            20        GR                      Radiación global   \n18            21       PAR                          Radiación FA   \n19            22        PA                   Presión Atmosférica   \n20            23        pH                Potencial de hidrógeno   \n21            24        PP                 Precipitacion pluvial   \n22            25        CE               Conductividad eléctrica   \n23            26       SO4                               Sulfato   \n24            27       NO3                               Nitrato   \n25            28        Cl                               Cloruro   \n26            29       CO3                             Carbonato   \n27            30         H                             Hidrógeno   \n28            31       NH4                                Amonio   \n29            32        Ca                                Calcio   \n30            33        Mg                              Magnesio   \n31            34        Na                                 Sodio   \n32            35         K                               Potasio   \n33            36       PST        Partículas suspendidas totales   \n34            37     PbPST                Plomo contenido en PST   \n35            38      PbPM               Plomo contenido en PM10   \n36            39       ETB                           Etilbenceno   \n37            40       XIL                               Xilenos   \n\n   unidades_param  \n0               1  \n1               1  \n2               1  \n3               1  \n4              15  \n5               1  \n6               2  \n7               2  \n8               2  \n9               1  \n10              1  \n11              3  \n12              4  \n13              5  \n14              6  \n15              7  \n16             16  \n17              7  \n18              8  \n19              9  \n20             10  \n21             11  \n22             12  \n23          13,14  \n24          13,14  \n25          13,14  \n26          13,14  \n27          13,14  \n28          13,14  \n29          13,14  \n30          13,14  \n31          13,14  \n32          13,14  \n33              2  \n34              2  \n35              2  \n36              1  \n37              1  ",
      "text/html": "<div>\n<style scoped>\n    .dataframe tbody tr th:only-of-type {\n        vertical-align: middle;\n    }\n\n    .dataframe tbody tr th {\n        vertical-align: top;\n    }\n\n    .dataframe thead th {\n        text-align: right;\n    }\n</style>\n<table border=\"1\" class=\"dataframe\">\n  <thead>\n    <tr style=\"text-align: right;\">\n      <th></th>\n      <th>id_parameter</th>\n      <th>cve_param</th>\n      <th>nom_param</th>\n      <th>unidades_param</th>\n    </tr>\n  </thead>\n  <tbody>\n    <tr>\n      <th>0</th>\n      <td>1</td>\n      <td>O3</td>\n      <td>Ozono</td>\n      <td>1</td>\n    </tr>\n    <tr>\n      <th>1</th>\n      <td>2</td>\n      <td>NO2</td>\n      <td>Dióxido de nitrógeno</td>\n      <td>1</td>\n    </tr>\n    <tr>\n      <th>2</th>\n      <td>3</td>\n      <td>NO</td>\n      <td>Óxido nítrico</td>\n      <td>1</td>\n    </tr>\n    <tr>\n      <th>3</th>\n      <td>4</td>\n      <td>NOx</td>\n      <td>Óxidos de nitrógeno</td>\n      <td>1</td>\n    </tr>\n    <tr>\n      <th>4</th>\n      <td>5</td>\n      <td>CO</td>\n      <td>Monóxido de carbono</td>\n      <td>15</td>\n    </tr>\n    <tr>\n      <th>5</th>\n      <td>6</td>\n      <td>SO2</td>\n      <td>Dióxido de azufre</td>\n      <td>1</td>\n    </tr>\n    <tr>\n      <th>6</th>\n      <td>7</td>\n      <td>PM10</td>\n      <td>Partículas menores a 10 micrómetros</td>\n      <td>2</td>\n    </tr>\n    <tr>\n      <th>7</th>\n      <td>8</td>\n      <td>PM2.5</td>\n      <td>Partículas menores a 2.5 micrómetros</td>\n      <td>2</td>\n    </tr>\n    <tr>\n      <th>8</th>\n      <td>9</td>\n      <td>PMco</td>\n      <td>Partículas coarse</td>\n      <td>2</td>\n    </tr>\n    <tr>\n      <th>9</th>\n      <td>10</td>\n      <td>BEN</td>\n      <td>Benceno</td>\n      <td>1</td>\n    </tr>\n    <tr>\n      <th>10</th>\n      <td>11</td>\n      <td>TOL</td>\n      <td>Tolueno</td>\n      <td>1</td>\n    </tr>\n    <tr>\n      <th>11</th>\n      <td>14</td>\n      <td>WSP</td>\n      <td>Velocidad del viento</td>\n      <td>3</td>\n    </tr>\n    <tr>\n      <th>12</th>\n      <td>15</td>\n      <td>WDR</td>\n      <td>Direccion del viento</td>\n      <td>4</td>\n    </tr>\n    <tr>\n      <th>13</th>\n      <td>16</td>\n      <td>TMP</td>\n      <td>Temperatura ambiente</td>\n      <td>5</td>\n    </tr>\n    <tr>\n      <th>14</th>\n      <td>17</td>\n      <td>RH</td>\n      <td>Humedad relativa</td>\n      <td>6</td>\n    </tr>\n    <tr>\n      <th>15</th>\n      <td>18</td>\n      <td>UVA</td>\n      <td>Radiación UV-A</td>\n      <td>7</td>\n    </tr>\n    <tr>\n      <th>16</th>\n      <td>19</td>\n      <td>UVB</td>\n      <td>Radiación UV-B</td>\n      <td>16</td>\n    </tr>\n    <tr>\n      <th>17</th>\n      <td>20</td>\n      <td>GR</td>\n      <td>Radiación global</td>\n      <td>7</td>\n    </tr>\n    <tr>\n      <th>18</th>\n      <td>21</td>\n      <td>PAR</td>\n      <td>Radiación FA</td>\n      <td>8</td>\n    </tr>\n    <tr>\n      <th>19</th>\n      <td>22</td>\n      <td>PA</td>\n      <td>Presión Atmosférica</td>\n      <td>9</td>\n    </tr>\n    <tr>\n      <th>20</th>\n      <td>23</td>\n      <td>pH</td>\n      <td>Potencial de hidrógeno</td>\n      <td>10</td>\n    </tr>\n    <tr>\n      <th>21</th>\n      <td>24</td>\n      <td>PP</td>\n      <td>Precipitacion pluvial</td>\n      <td>11</td>\n    </tr>\n    <tr>\n      <th>22</th>\n      <td>25</td>\n      <td>CE</td>\n      <td>Conductividad eléctrica</td>\n      <td>12</td>\n    </tr>\n    <tr>\n      <th>23</th>\n      <td>26</td>\n      <td>SO4</td>\n      <td>Sulfato</td>\n      <td>13,14</td>\n    </tr>\n    <tr>\n      <th>24</th>\n      <td>27</td>\n      <td>NO3</td>\n      <td>Nitrato</td>\n      <td>13,14</td>\n    </tr>\n    <tr>\n      <th>25</th>\n      <td>28</td>\n      <td>Cl</td>\n      <td>Cloruro</td>\n      <td>13,14</td>\n    </tr>\n    <tr>\n      <th>26</th>\n      <td>29</td>\n      <td>CO3</td>\n      <td>Carbonato</td>\n      <td>13,14</td>\n    </tr>\n    <tr>\n      <th>27</th>\n      <td>30</td>\n      <td>H</td>\n      <td>Hidrógeno</td>\n      <td>13,14</td>\n    </tr>\n    <tr>\n      <th>28</th>\n      <td>31</td>\n      <td>NH4</td>\n      <td>Amonio</td>\n      <td>13,14</td>\n    </tr>\n    <tr>\n      <th>29</th>\n      <td>32</td>\n      <td>Ca</td>\n      <td>Calcio</td>\n      <td>13,14</td>\n    </tr>\n    <tr>\n      <th>30</th>\n      <td>33</td>\n      <td>Mg</td>\n      <td>Magnesio</td>\n      <td>13,14</td>\n    </tr>\n    <tr>\n      <th>31</th>\n      <td>34</td>\n      <td>Na</td>\n      <td>Sodio</td>\n      <td>13,14</td>\n    </tr>\n    <tr>\n      <th>32</th>\n      <td>35</td>\n      <td>K</td>\n      <td>Potasio</td>\n      <td>13,14</td>\n    </tr>\n    <tr>\n      <th>33</th>\n      <td>36</td>\n      <td>PST</td>\n      <td>Partículas suspendidas totales</td>\n      <td>2</td>\n    </tr>\n    <tr>\n      <th>34</th>\n      <td>37</td>\n      <td>PbPST</td>\n      <td>Plomo contenido en PST</td>\n      <td>2</td>\n    </tr>\n    <tr>\n      <th>35</th>\n      <td>38</td>\n      <td>PbPM</td>\n      <td>Plomo contenido en PM10</td>\n      <td>2</td>\n    </tr>\n    <tr>\n      <th>36</th>\n      <td>39</td>\n      <td>ETB</td>\n      <td>Etilbenceno</td>\n      <td>1</td>\n    </tr>\n    <tr>\n      <th>37</th>\n      <td>40</td>\n      <td>XIL</td>\n      <td>Xilenos</td>\n      <td>1</td>\n    </tr>\n  </tbody>\n</table>\n</div>"
     },
     "execution_count": 105,
     "metadata": {},
     "output_type": "execute_result"
    }
   ],
   "source": [
    "path_csv_cat = []\n",
    "for file in files_catalogos:path_csv_cat.append(path_catalogos+file)\n",
    "catalogo_unidades = pd.read_csv(path_csv_cat[0], sep=',',  encoding='latin-1', header=0)\n",
    "catalogo_estaciones = pd.read_csv(path_csv_cat[1], sep=',',  encoding='latin-1', header=1)\n",
    "catalogos_parametros = pd.read_csv(path_csv_cat[2], sep=',',  encoding='latin-1', header=1)\n",
    "catalogos_parametros\n",
    "#catalogo_unidades"
   ],
   "metadata": {
    "collapsed": false,
    "pycharm": {
     "name": "#%%\n"
    }
   }
  },
  {
   "cell_type": "code",
   "execution_count": 109,
   "outputs": [],
   "source": [
    "#catalogos_parametros['unidades_param'] = catalogos_parametros.unidades_param.apply(lambda  x: x.split(',')[0]).astype(int)"
   ],
   "metadata": {
    "collapsed": false,
    "pycharm": {
     "name": "#%%\n"
    }
   }
  },
  {
   "cell_type": "code",
   "execution_count": 110,
   "outputs": [
    {
     "name": "stdout",
     "output_type": "stream",
     "text": [
      "<class 'pandas.core.series.Series'>\n",
      "RangeIndex: 9517239 entries, 0 to 9517238\n",
      "Series name: id_station\n",
      "Non-Null Count    Dtype \n",
      "--------------    ----- \n",
      "9517239 non-null  object\n",
      "dtypes: object(1)\n",
      "memory usage: 72.6+ MB\n"
     ]
    }
   ],
   "source": [
    "df['id_station'].info()"
   ],
   "metadata": {
    "collapsed": false,
    "pycharm": {
     "name": "#%%\n"
    }
   }
  },
  {
   "cell_type": "code",
   "execution_count": 107,
   "outputs": [
    {
     "name": "stdout",
     "output_type": "stream",
     "text": [
      "<class 'pandas.core.frame.DataFrame'>\n",
      "RangeIndex: 9517239 entries, 0 to 9517238\n",
      "Data columns (total 5 columns):\n",
      " #   Column        Dtype         \n",
      "---  ------        -----         \n",
      " 0   date          datetime64[ns]\n",
      " 1   id_station    object        \n",
      " 2   id_parameter  object        \n",
      " 3   value         float64       \n",
      " 4   unit          int64         \n",
      "dtypes: datetime64[ns](1), float64(1), int64(1), object(2)\n",
      "memory usage: 363.1+ MB\n"
     ]
    },
    {
     "data": {
      "text/plain": "                 date id_station id_parameter  value  unit\n0 2022-01-01 01:00:00        ACO           CO    1.1    15\n1 2022-01-01 01:00:00        ACO           NO   10.0     1\n2 2022-01-01 01:00:00        ACO          NO2   39.0     1\n3 2022-01-01 01:00:00        ACO          NOX   50.0     1\n4 2022-01-01 01:00:00        ACO           O3    3.0     1",
      "text/html": "<div>\n<style scoped>\n    .dataframe tbody tr th:only-of-type {\n        vertical-align: middle;\n    }\n\n    .dataframe tbody tr th {\n        vertical-align: top;\n    }\n\n    .dataframe thead th {\n        text-align: right;\n    }\n</style>\n<table border=\"1\" class=\"dataframe\">\n  <thead>\n    <tr style=\"text-align: right;\">\n      <th></th>\n      <th>date</th>\n      <th>id_station</th>\n      <th>id_parameter</th>\n      <th>value</th>\n      <th>unit</th>\n    </tr>\n  </thead>\n  <tbody>\n    <tr>\n      <th>0</th>\n      <td>2022-01-01 01:00:00</td>\n      <td>ACO</td>\n      <td>CO</td>\n      <td>1.1</td>\n      <td>15</td>\n    </tr>\n    <tr>\n      <th>1</th>\n      <td>2022-01-01 01:00:00</td>\n      <td>ACO</td>\n      <td>NO</td>\n      <td>10.0</td>\n      <td>1</td>\n    </tr>\n    <tr>\n      <th>2</th>\n      <td>2022-01-01 01:00:00</td>\n      <td>ACO</td>\n      <td>NO2</td>\n      <td>39.0</td>\n      <td>1</td>\n    </tr>\n    <tr>\n      <th>3</th>\n      <td>2022-01-01 01:00:00</td>\n      <td>ACO</td>\n      <td>NOX</td>\n      <td>50.0</td>\n      <td>1</td>\n    </tr>\n    <tr>\n      <th>4</th>\n      <td>2022-01-01 01:00:00</td>\n      <td>ACO</td>\n      <td>O3</td>\n      <td>3.0</td>\n      <td>1</td>\n    </tr>\n  </tbody>\n</table>\n</div>"
     },
     "execution_count": 107,
     "metadata": {},
     "output_type": "execute_result"
    }
   ],
   "source": [
    "catalogos_parametros.merge(catalogo_unidades, left_on=['unidades_param'], right_on=['id_unidad'], how='left').reset_index(drop=True).drop('unidades_param',axis=1)\n",
    "df.info()\n",
    "df.head()"
   ],
   "metadata": {
    "collapsed": false,
    "pycharm": {
     "name": "#%%\n"
    }
   }
  },
  {
   "cell_type": "markdown",
   "source": [],
   "metadata": {
    "collapsed": false,
    "pycharm": {
     "name": "#%% md\n"
    }
   }
  }
 ],
 "metadata": {
  "kernelspec": {
   "display_name": "Python 3",
   "language": "python",
   "name": "python3"
  },
  "language_info": {
   "codemirror_mode": {
    "name": "ipython",
    "version": 2
   },
   "file_extension": ".py",
   "mimetype": "text/x-python",
   "name": "python",
   "nbconvert_exporter": "python",
   "pygments_lexer": "ipython2",
   "version": "2.7.6"
  }
 },
 "nbformat": 4,
 "nbformat_minor": 0
}